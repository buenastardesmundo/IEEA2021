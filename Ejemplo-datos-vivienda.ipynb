{
  "nbformat": 4,
  "nbformat_minor": 5,
  "metadata": {
    "kernelspec": {
      "display_name": "Python 3",
      "language": "python",
      "name": "python3"
    },
    "language_info": {
      "codemirror_mode": {
        "name": "ipython",
        "version": 3
      },
      "file_extension": ".py",
      "mimetype": "text/x-python",
      "name": "python",
      "nbconvert_exporter": "python",
      "pygments_lexer": "ipython3",
      "version": "3.8.6"
    },
    "colab": {
      "name": "Ejemplo-datos-vivienda.ipynb",
      "provenance": [],
      "include_colab_link": true
    }
  },
  "cells": [
    {
      "cell_type": "markdown",
      "metadata": {
        "id": "view-in-github",
        "colab_type": "text"
      },
      "source": [
        "<a href=\"https://colab.research.google.com/github/buenastardesmundo/IEEA2021/blob/main/Ejemplo-datos-vivienda.ipynb\" target=\"_parent\"><img src=\"https://colab.research.google.com/assets/colab-badge.svg\" alt=\"Open In Colab\"/></a>"
      ]
    },
    {
      "cell_type": "markdown",
      "metadata": {
        "id": "organized-allowance"
      },
      "source": [
        "# Encabezado 1"
      ],
      "id": "organized-allowance"
    },
    {
      "cell_type": "markdown",
      "metadata": {
        "id": "reliable-clinton"
      },
      "source": [
        "Texto explicativo (ESC para entrar a \"command mode\" y tecla M de \"markdown\")\n",
        "más texto.\n",
        "Para insertar nueva celda debajo, pulsar B (below)."
      ],
      "id": "reliable-clinton"
    },
    {
      "cell_type": "code",
      "metadata": {
        "id": "public-chick"
      },
      "source": [
        "#código python"
      ],
      "id": "public-chick",
      "execution_count": null,
      "outputs": []
    },
    {
      "cell_type": "code",
      "metadata": {
        "id": "typical-philadelphia"
      },
      "source": [
        "#modificación en el código"
      ],
      "id": "typical-philadelphia",
      "execution_count": 1,
      "outputs": []
    }
  ]
}