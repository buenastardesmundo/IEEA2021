{
 "cells": [
  {
   "cell_type": "markdown",
   "id": "organized-allowance",
   "metadata": {},
   "source": [
    "# Encabezado 1"
   ]
  },
  {
   "cell_type": "markdown",
   "id": "reliable-clinton",
   "metadata": {},
   "source": [
    "Texto explicativo (ESC para entrar a \"command mode\" y tecla M de \"markdown\")\n",
    "más texto.\n",
    "Para insertar nueva celda debajo, pulsar B (below)."
   ]
  },
  {
   "cell_type": "code",
   "execution_count": null,
   "id": "public-chick",
   "metadata": {},
   "outputs": [],
   "source": [
    "#código python"
   ]
  },
  {
   "cell_type": "code",
   "execution_count": null,
   "id": "typical-philadelphia",
   "metadata": {},
   "outputs": [],
   "source": []
  }
 ],
 "metadata": {
  "kernelspec": {
   "display_name": "Python 3",
   "language": "python",
   "name": "python3"
  },
  "language_info": {
   "codemirror_mode": {
    "name": "ipython",
    "version": 3
   },
   "file_extension": ".py",
   "mimetype": "text/x-python",
   "name": "python",
   "nbconvert_exporter": "python",
   "pygments_lexer": "ipython3",
   "version": "3.8.6"
  }
 },
 "nbformat": 4,
 "nbformat_minor": 5
}
